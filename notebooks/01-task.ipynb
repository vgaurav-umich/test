{
 "cells": [
  {
   "cell_type": "code",
   "execution_count": 1,
   "id": "99019eb8",
   "metadata": {
    "execution": {
     "iopub.execute_input": "2022-03-13T23:37:05.146529Z",
     "iopub.status.busy": "2022-03-13T23:37:05.146249Z",
     "iopub.status.idle": "2022-03-13T23:37:06.129940Z",
     "shell.execute_reply": "2022-03-13T23:37:06.129468Z"
    },
    "papermill": {
     "duration": 0.993609,
     "end_time": "2022-03-13T23:37:06.131716",
     "exception": false,
     "start_time": "2022-03-13T23:37:05.138107",
     "status": "completed"
    },
    "tags": []
   },
   "outputs": [],
   "source": [
    "import pandas as pd\n",
    "from sklearn import datasets\n",
    "from pathlib import Path"
   ]
  },
  {
   "cell_type": "code",
   "execution_count": 2,
   "id": "bc79c31f",
   "metadata": {
    "execution": {
     "iopub.execute_input": "2022-03-13T23:37:06.140915Z",
     "iopub.status.busy": "2022-03-13T23:37:06.140699Z",
     "iopub.status.idle": "2022-03-13T23:37:06.143576Z",
     "shell.execute_reply": "2022-03-13T23:37:06.143059Z"
    },
    "lines_to_next_cell": 2,
    "papermill": {
     "duration": 0.009182,
     "end_time": "2022-03-13T23:37:06.145441",
     "exception": false,
     "start_time": "2022-03-13T23:37:06.136259",
     "status": "completed"
    },
    "tags": [
     "parameters"
    ]
   },
   "outputs": [],
   "source": [
    "# declare a list tasks whose products you want to use as inputs\n",
    "upstream = None\n"
   ]
  },
  {
   "cell_type": "code",
   "execution_count": 3,
   "id": "600ed566",
   "metadata": {
    "execution": {
     "iopub.execute_input": "2022-03-13T23:37:06.154329Z",
     "iopub.status.busy": "2022-03-13T23:37:06.154135Z",
     "iopub.status.idle": "2022-03-13T23:37:06.156677Z",
     "shell.execute_reply": "2022-03-13T23:37:06.156234Z"
    },
    "papermill": {
     "duration": 0.008527,
     "end_time": "2022-03-13T23:37:06.158254",
     "exception": false,
     "start_time": "2022-03-13T23:37:06.149727",
     "status": "completed"
    },
    "tags": [
     "injected-parameters"
    ]
   },
   "outputs": [],
   "source": [
    "# Parameters\n",
    "product = {\n",
    "    \"nb\": \"/Users/aiujdm2/test/notebooks/01-task.ipynb\",\n",
    "    \"data\": \"/Users/aiujdm2/test/data/01-data.parquet\",\n",
    "}\n"
   ]
  },
  {
   "cell_type": "code",
   "execution_count": 4,
   "id": "afb07c96",
   "metadata": {
    "execution": {
     "iopub.execute_input": "2022-03-13T23:37:06.165674Z",
     "iopub.status.busy": "2022-03-13T23:37:06.165515Z",
     "iopub.status.idle": "2022-03-13T23:37:06.168680Z",
     "shell.execute_reply": "2022-03-13T23:37:06.168273Z"
    },
    "papermill": {
     "duration": 0.008433,
     "end_time": "2022-03-13T23:37:06.170085",
     "exception": false,
     "start_time": "2022-03-13T23:37:06.161652",
     "status": "completed"
    },
    "tags": []
   },
   "outputs": [],
   "source": [
    "def make_dataset(product):\n",
    "\n",
    "    d = datasets.load_iris()\n",
    "    df = pd.DataFrame(d['data'])\n",
    "    df.columns = d['feature_names']\n",
    "    df['target'] = d['target']\n",
    "\n",
    "    Path(str(product['data'])).parent.mkdir(exist_ok=True, parents=True)\n",
    "\n",
    "    df.to_parquet(str(product['data']))"
   ]
  },
  {
   "cell_type": "code",
   "execution_count": 5,
   "id": "5ea10375",
   "metadata": {
    "execution": {
     "iopub.execute_input": "2022-03-13T23:37:06.177475Z",
     "iopub.status.busy": "2022-03-13T23:37:06.177314Z",
     "iopub.status.idle": "2022-03-13T23:37:06.211812Z",
     "shell.execute_reply": "2022-03-13T23:37:06.210713Z"
    },
    "papermill": {
     "duration": 0.040909,
     "end_time": "2022-03-13T23:37:06.214276",
     "exception": false,
     "start_time": "2022-03-13T23:37:06.173367",
     "status": "completed"
    },
    "tags": []
   },
   "outputs": [],
   "source": [
    "make_dataset(product)"
   ]
  }
 ],
 "metadata": {
  "jupytext": {
   "cell_metadata_filter": "tags,-all",
   "main_language": "python",
   "notebook_metadata_filter": "-all",
   "text_representation": {
    "extension": ".py",
    "format_name": "light"
   }
  },
  "kernelspec": {
   "display_name": "Python 3 (ipykernel)",
   "language": "python",
   "name": "python3"
  },
  "language_info": {
   "codemirror_mode": {
    "name": "ipython",
    "version": 3
   },
   "file_extension": ".py",
   "mimetype": "text/x-python",
   "name": "python",
   "nbconvert_exporter": "python",
   "pygments_lexer": "ipython3",
   "version": "3.9.10"
  },
  "papermill": {
   "duration": 2.337712,
   "end_time": "2022-03-13T23:37:06.540300",
   "exception": null,
   "input_path": "/var/folders/b0/4tc1nfbd6z7_vhx4nxcj2n91c0l9h6/T/tmph1tug2ti.ipynb",
   "output_path": "/Users/aiujdm2/test/notebooks/01-task.ipynb",
   "parameters": {
    "product": {
     "data": "/Users/aiujdm2/test/data/01-data.parquet",
     "nb": "/Users/aiujdm2/test/notebooks/01-task.ipynb"
    }
   },
   "start_time": "2022-03-13T23:37:04.202588"
  }
 },
 "nbformat": 4,
 "nbformat_minor": 5
}